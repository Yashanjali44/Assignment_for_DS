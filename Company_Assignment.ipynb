{
  "nbformat": 4,
  "nbformat_minor": 0,
  "metadata": {
    "colab": {
      "provenance": []
    },
    "kernelspec": {
      "name": "python3",
      "display_name": "Python 3"
    },
    "language_info": {
      "name": "python"
    }
  },
  "cells": [
    {
      "cell_type": "code",
      "execution_count": 1,
      "metadata": {
        "colab": {
          "base_uri": "https://localhost:8080/",
          "height": 303
        },
        "id": "nu_VoPfb8Elo",
        "outputId": "582b98e2-661c-4f55-8f9c-94ea73d5facc"
      },
      "outputs": [
        {
          "output_type": "stream",
          "name": "stdout",
          "text": [
            "Downloading data from https://storage.googleapis.com/tensorflow/tf-keras-datasets/mnist.npz\n",
            "11490434/11490434 [==============================] - 0s 0us/step\n"
          ]
        },
        {
          "output_type": "display_data",
          "data": {
            "text/plain": [
              "<Figure size 432x288 with 4 Axes>"
            ],
            "image/png": "[encoded data removed]"
          },
          "metadata": {
            "needs_background": "light"
          }
        }
      ],
      "source": [
        "# Plot ad hoc mnist instances\n",
        "from tensorflow.keras.datasets import mnist\n",
        "import matplotlib.pyplot as plt\n",
        "# load (downloaded if needed) the MNIST dataset\n",
        "(X_train, y_train), (X_test, y_test) = mnist.load_data()\n",
        "# plot 4 images as gray scale\n",
        "plt.subplot(221)\n",
        "plt.imshow(X_train[0], cmap=plt.get_cmap('gray'))\n",
        "plt.subplot(222)\n",
        "plt.imshow(X_train[1], cmap=plt.get_cmap('gray'))\n",
        "plt.subplot(223)\n",
        "plt.imshow(X_train[2], cmap=plt.get_cmap('gray'))\n",
        "plt.subplot(224)\n",
        "plt.imshow(X_train[3], cmap=plt.get_cmap('gray'))\n",
        "# show the plot\n",
        "plt.show()"
      ]
    },
    {
      "cell_type": "code",
      "source": [
        "\n",
        "from tensorflow.keras.datasets import mnist\n",
        "from tensorflow.keras.models import Sequential\n",
        "from tensorflow.keras.layers import Dense\n",
        "from tensorflow.keras.layers import Dropout\n",
        "from tensorflow.keras.utils import to_categorical\n",
        "..."
      ],
      "metadata": {
        "colab": {
          "base_uri": "https://localhost:8080/"
        },
        "id": "fVDHEJ2t8Lmm",
        "outputId": "d3a53476-1a07-4b71-f57a-dab89d7e67b2"
      },
      "execution_count": 2,
      "outputs": [
        {
          "output_type": "execute_result",
          "data": {
            "text/plain": [
              "Ellipsis"
            ]
          },
          "metadata": {},
          "execution_count": 2
        }
      ]
    },
    {
      "cell_type": "code",
      "source": [
        "...\n",
        "# load data\n",
        "(X_train, y_train), (X_test, y_test) = mnist.load_data()"
      ],
      "metadata": {
        "id": "K8n97Yt98UUQ"
      },
      "execution_count": 3,
      "outputs": []
    },
    {
      "cell_type": "code",
      "source": [
        "# flatten 28*28 images to a 784 vector for each image\n",
        "num_pixels = X_train.shape[1] * X_train.shape[2]\n",
        "X_train = X_train.reshape((X_train.shape[0], num_pixels)).astype('float32')\n",
        "X_test = X_test.reshape((X_test.shape[0], num_pixels)).astype('float32')"
      ],
      "metadata": {
        "id": "rZsQ6sYf8YZx"
      },
      "execution_count": 4,
      "outputs": []
    },
    {
      "cell_type": "code",
      "source": [
        "# normalize inputs from 0-255 to 0-1\n",
        "X_train = X_train / 255\n",
        "X_test = X_test / 255"
      ],
      "metadata": {
        "id": "WlN_328v8eYF"
      },
      "execution_count": 5,
      "outputs": []
    },
    {
      "cell_type": "code",
      "source": [
        "# one hot encode outputs\n",
        "y_train = to_categorical(y_train)\n",
        "y_test = to_categorical(y_test)\n",
        "num_classes = y_test.shape[1]"
      ],
      "metadata": {
        "id": "8mhWNGTR8jPf"
      },
      "execution_count": 6,
      "outputs": []
    },
    {
      "cell_type": "code",
      "source": [
        "# define baseline model\n",
        "def baseline_model():\n",
        " # create model\n",
        " model = Sequential()\n",
        " model.add(Dense(num_pixels, input_shape=(num_pixels,), kernel_initializer='normal', activation='relu'))\n",
        " model.add(Dense(num_classes, kernel_initializer='normal', activation='softmax'))\n",
        " # Compile model\n",
        " model.compile(loss='categorical_crossentropy', optimizer='adam', metrics=['accuracy'])\n",
        " return model"
      ],
      "metadata": {
        "id": "zZ0tpYnq8mdC"
      },
      "execution_count": 7,
      "outputs": []
    },
    {
      "cell_type": "code",
      "source": [
        "# build the model\n",
        "model = baseline_model()\n",
        "# Fit the model\n",
        "model.fit(X_train, y_train, validation_data=(X_test, y_test), epochs=10, batch_size=200, verbose=2)\n",
        "# Final evaluation of the model\n",
        "scores = model.evaluate(X_test, y_test, verbose=0)\n",
        "print(\"Baseline Error: %.2f%%\" % (100-scores[1]*100))"
      ],
      "metadata": {
        "colab": {
          "base_uri": "https://localhost:8080/"
        },
        "id": "SxZCaZiw8p5d",
        "outputId": "af2ae1b2-c271-41cc-c5c1-b7290fd45f42"
      },
      "execution_count": 8,
      "outputs": [
        {
          "output_type": "stream",
          "name": "stdout",
          "text": [
            "Epoch 1/10\n",
            "300/300 - 5s - loss: 0.2794 - accuracy: 0.9203 - val_loss: 0.1432 - val_accuracy: 0.9582 - 5s/epoch - 18ms/step\n",
            "Epoch 2/10\n",
            "300/300 - 5s - loss: 0.1107 - accuracy: 0.9681 - val_loss: 0.0951 - val_accuracy: 0.9723 - 5s/epoch - 18ms/step\n",
            "Epoch 3/10\n",
            "300/300 - 4s - loss: 0.0718 - accuracy: 0.9791 - val_loss: 0.0788 - val_accuracy: 0.9768 - 4s/epoch - 13ms/step\n",
            "Epoch 4/10\n",
            "300/300 - 4s - loss: 0.0504 - accuracy: 0.9851 - val_loss: 0.0746 - val_accuracy: 0.9772 - 4s/epoch - 14ms/step\n",
            "Epoch 5/10\n",
            "300/300 - 4s - loss: 0.0369 - accuracy: 0.9894 - val_loss: 0.0728 - val_accuracy: 0.9771 - 4s/epoch - 14ms/step\n",
            "Epoch 6/10\n",
            "300/300 - 5s - loss: 0.0273 - accuracy: 0.9926 - val_loss: 0.0608 - val_accuracy: 0.9805 - 5s/epoch - 17ms/step\n",
            "Epoch 7/10\n",
            "300/300 - 4s - loss: 0.0198 - accuracy: 0.9952 - val_loss: 0.0593 - val_accuracy: 0.9817 - 4s/epoch - 14ms/step\n",
            "Epoch 8/10\n",
            "300/300 - 5s - loss: 0.0144 - accuracy: 0.9966 - val_loss: 0.0654 - val_accuracy: 0.9806 - 5s/epoch - 17ms/step\n",
            "Epoch 9/10\n",
            "300/300 - 4s - loss: 0.0108 - accuracy: 0.9977 - val_loss: 0.0625 - val_accuracy: 0.9804 - 4s/epoch - 14ms/step\n",
            "Epoch 10/10\n",
            "300/300 - 4s - loss: 0.0077 - accuracy: 0.9987 - val_loss: 0.0647 - val_accuracy: 0.9817 - 4s/epoch - 13ms/step\n",
            "Baseline Error: 1.83%\n"
          ]
        }
      ]
    },
    {
      "cell_type": "code",
      "source": [
        "\n",
        "# Baseline MLP for MNIST dataset\n",
        "from tensorflow.keras.datasets import mnist\n",
        "from tensorflow.keras.models import Sequential\n",
        "from tensorflow.keras.layers import Dense\n",
        "from tensorflow.keras.utils import to_categorical\n",
        "# load data\n",
        "(X_train, y_train), (X_test, y_test) = mnist.load_data()\n",
        "# flatten 28*28 images to a 784 vector for each image\n",
        "num_pixels = X_train.shape[1] * X_train.shape[2]\n",
        "X_train = X_train.reshape((X_train.shape[0], num_pixels)).astype('float32')\n",
        "X_test = X_test.reshape((X_test.shape[0], num_pixels)).astype('float32')\n",
        "# normalize inputs from 0-255 to 0-1\n",
        "X_train = X_train / 255\n",
        "X_test = X_test / 255\n",
        "# one hot encode outputs\n",
        "y_train = to_categorical(y_train)\n",
        "y_test = to_categorical(y_test)\n",
        "num_classes = y_test.shape[1]\n",
        "# define baseline model\n",
        "def baseline_model():\n",
        " # create model\n",
        " model = Sequential()\n",
        " model.add(Dense(num_pixels, input_shape=(num_pixels,), kernel_initializer='normal', activation='relu'))\n",
        " model.add(Dense(num_classes, kernel_initializer='normal', activation='softmax'))\n",
        " # Compile model\n",
        " model.compile(loss='categorical_crossentropy', optimizer='adam', metrics=['accuracy'])\n",
        " return model\n",
        "# build the model\n",
        "model = baseline_model()\n",
        "# Fit the model\n",
        "model.fit(X_train, y_train, validation_data=(X_test, y_test), epochs=10, batch_size=200, verbose=2)\n",
        "# Final evaluation of the model\n",
        "scores = model.evaluate(X_test, y_test, verbose=0)\n",
        "print(\"Baseline Error: %.2f%%\" % (100-scores[1]*100))"
      ],
      "metadata": {
        "colab": {
          "base_uri": "https://localhost:8080/"
        },
        "id": "8e1iFyKY8udm",
        "outputId": "a642796b-93df-41f1-c8e9-eb2fc87cba17"
      },
      "execution_count": 12,
      "outputs": [
        {
          "output_type": "stream",
          "name": "stdout",
          "text": [
            "Epoch 1/10\n",
            "300/300 - 5s - loss: 0.2759 - accuracy: 0.9221 - val_loss: 0.1384 - val_accuracy: 0.9604 - 5s/epoch - 15ms/step\n",
            "Epoch 2/10\n",
            "300/300 - 4s - loss: 0.1097 - accuracy: 0.9684 - val_loss: 0.0933 - val_accuracy: 0.9713 - 4s/epoch - 14ms/step\n",
            "Epoch 3/10\n",
            "300/300 - 4s - loss: 0.0715 - accuracy: 0.9791 - val_loss: 0.0737 - val_accuracy: 0.9785 - 4s/epoch - 13ms/step\n",
            "Epoch 4/10\n",
            "300/300 - 4s - loss: 0.0496 - accuracy: 0.9858 - val_loss: 0.0769 - val_accuracy: 0.9754 - 4s/epoch - 13ms/step\n",
            "Epoch 5/10\n",
            "300/300 - 4s - loss: 0.0354 - accuracy: 0.9900 - val_loss: 0.0622 - val_accuracy: 0.9797 - 4s/epoch - 14ms/step\n",
            "Epoch 6/10\n",
            "300/300 - 4s - loss: 0.0260 - accuracy: 0.9930 - val_loss: 0.0615 - val_accuracy: 0.9810 - 4s/epoch - 13ms/step\n",
            "Epoch 7/10\n",
            "300/300 - 4s - loss: 0.0191 - accuracy: 0.9951 - val_loss: 0.0595 - val_accuracy: 0.9821 - 4s/epoch - 13ms/step\n",
            "Epoch 8/10\n",
            "300/300 - 4s - loss: 0.0140 - accuracy: 0.9969 - val_loss: 0.0605 - val_accuracy: 0.9807 - 4s/epoch - 13ms/step\n",
            "Epoch 9/10\n",
            "300/300 - 4s - loss: 0.0101 - accuracy: 0.9982 - val_loss: 0.0595 - val_accuracy: 0.9816 - 4s/epoch - 13ms/step\n",
            "Epoch 10/10\n",
            "300/300 - 4s - loss: 0.0074 - accuracy: 0.9989 - val_loss: 0.0621 - val_accuracy: 0.9801 - 4s/epoch - 13ms/step\n",
            "Baseline Error: 1.99%\n"
          ]
        }
      ]
    },
    {
      "cell_type": "code",
      "source": [
        "from tensorflow.keras.datasets import mnist\n",
        "from tensorflow.keras.models import Sequential\n",
        "from tensorflow.keras.layers import Dense\n",
        "from tensorflow.keras.layers import Dropout\n",
        "from tensorflow.keras.layers import Flatten\n",
        "from tensorflow.keras.layers import Conv2D\n",
        "from tensorflow.keras.layers import MaxPooling2D\n",
        "from tensorflow.keras.utils import to_categorical"
      ],
      "metadata": {
        "id": "r8jmZ4yo9YNR"
      },
      "execution_count": 13,
      "outputs": []
    },
    {
      "cell_type": "code",
      "source": [
        "# load data\n",
        "(X_train, y_train), (X_test, y_test) = mnist.load_data()\n",
        "# reshape to be [samples][width][height][channels]\n",
        "X_train = X_train.reshape(X_train.shape[0], 28, 28, 1).astype('float32')\n",
        "X_test = X_test.reshape(X_test.shape[0], 28, 28, 1).astype('float32')"
      ],
      "metadata": {
        "id": "dv6G54dy9hL1"
      },
      "execution_count": 14,
      "outputs": []
    },
    {
      "cell_type": "code",
      "source": [
        "# normalize inputs from 0-255 to 0-1\n",
        "X_train = X_train / 255\n",
        "X_test = X_test / 255\n",
        "# one hot encode outputs\n",
        "y_train = to_categorical(y_train)\n",
        "y_test = to_categorical(y_test)\n",
        "num_classes = y_test.shape[1]"
      ],
      "metadata": {
        "id": "grxYjggN9h-Y"
      },
      "execution_count": 15,
      "outputs": []
    },
    {
      "cell_type": "code",
      "source": [
        "def baseline_model():\n",
        " # create model\n",
        " model = Sequential()\n",
        " model.add(Conv2D(32, (5, 5), input_shape=(28, 28, 1), activation='relu'))\n",
        " model.add(MaxPooling2D(pool_size=(2, 2)))\n",
        " model.add(Dropout(0.2))\n",
        " model.add(Flatten())\n",
        " model.add(Dense(128, activation='relu'))\n",
        " model.add(Dense(num_classes, activation='softmax'))\n",
        " # Compile model\n",
        " model.compile(loss='categorical_crossentropy', optimizer='adam', metrics=['accuracy'])\n",
        " return model"
      ],
      "metadata": {
        "id": "PiKqJXml9lCi"
      },
      "execution_count": 16,
      "outputs": []
    },
    {
      "cell_type": "code",
      "source": [
        "# build the model\n",
        "model = baseline_model()\n",
        "# Fit the model\n",
        "model.fit(X_train, y_train, validation_data=(X_test, y_test), epochs=10, batch_size=200, verbose=2)\n",
        "# Final evaluation of the model\n",
        "scores = model.evaluate(X_test, y_test, verbose=0)\n",
        "print(\"CNN Error: %.2f%%\" % (100-scores[1]*100))"
      ],
      "metadata": {
        "colab": {
          "base_uri": "https://localhost:8080/"
        },
        "id": "vF1y08nx9pLT",
        "outputId": "344987d1-b297-470d-c052-097cbb747373"
      },
      "execution_count": 17,
      "outputs": [
        {
          "output_type": "stream",
          "name": "stdout",
          "text": [
            "Epoch 1/10\n",
            "300/300 - 32s - loss: 0.2366 - accuracy: 0.9305 - val_loss: 0.0758 - val_accuracy: 0.9775 - 32s/epoch - 107ms/step\n",
            "Epoch 2/10\n",
            "300/300 - 30s - loss: 0.0716 - accuracy: 0.9782 - val_loss: 0.0582 - val_accuracy: 0.9810 - 30s/epoch - 99ms/step\n",
            "Epoch 3/10\n",
            "300/300 - 29s - loss: 0.0491 - accuracy: 0.9850 - val_loss: 0.0444 - val_accuracy: 0.9852 - 29s/epoch - 98ms/step\n",
            "Epoch 4/10\n",
            "300/300 - 29s - loss: 0.0394 - accuracy: 0.9872 - val_loss: 0.0342 - val_accuracy: 0.9891 - 29s/epoch - 98ms/step\n",
            "Epoch 5/10\n",
            "300/300 - 30s - loss: 0.0319 - accuracy: 0.9901 - val_loss: 0.0363 - val_accuracy: 0.9884 - 30s/epoch - 102ms/step\n",
            "Epoch 6/10\n",
            "300/300 - 29s - loss: 0.0257 - accuracy: 0.9920 - val_loss: 0.0341 - val_accuracy: 0.9890 - 29s/epoch - 97ms/step\n",
            "Epoch 7/10\n",
            "300/300 - 29s - loss: 0.0223 - accuracy: 0.9927 - val_loss: 0.0323 - val_accuracy: 0.9896 - 29s/epoch - 97ms/step\n",
            "Epoch 8/10\n",
            "300/300 - 29s - loss: 0.0197 - accuracy: 0.9938 - val_loss: 0.0318 - val_accuracy: 0.9902 - 29s/epoch - 97ms/step\n",
            "Epoch 9/10\n",
            "300/300 - 30s - loss: 0.0174 - accuracy: 0.9943 - val_loss: 0.0329 - val_accuracy: 0.9896 - 30s/epoch - 99ms/step\n",
            "Epoch 10/10\n",
            "300/300 - 30s - loss: 0.0125 - accuracy: 0.9958 - val_loss: 0.0307 - val_accuracy: 0.9912 - 30s/epoch - 100ms/step\n",
            "CNN Error: 0.88%\n"
          ]
        }
      ]
    },
    {
      "cell_type": "code",
      "source": [
        "# Simple CNN for the MNIST Dataset\n",
        "from tensorflow.keras.datasets import mnist\n",
        "from tensorflow.keras.models import Sequential\n",
        "from tensorflow.keras.layers import Dense\n",
        "from tensorflow.keras.layers import Dropout\n",
        "from tensorflow.keras.layers import Flatten\n",
        "from tensorflow.keras.layers import Conv2D\n",
        "from tensorflow.keras.layers import MaxPooling2D\n",
        "from tensorflow.keras.utils import to_categorical\n",
        "# load data\n",
        "(X_train, y_train), (X_test, y_test) = mnist.load_data()\n",
        "# reshape to be [samples][width][height][channels]\n",
        "X_train = X_train.reshape((X_train.shape[0], 28, 28, 1)).astype('float32')\n",
        "X_test = X_test.reshape((X_test.shape[0], 28, 28, 1)).astype('float32')\n",
        "# normalize inputs from 0-255 to 0-1\n",
        "X_train = X_train / 255\n",
        "X_test = X_test / 255\n",
        "# one hot encode outputs\n",
        "y_train = to_categorical(y_train)\n",
        "y_test = to_categorical(y_test)\n",
        "num_classes = y_test.shape[1]\n",
        "# define a simple CNN model\n",
        "def baseline_model():\n",
        " # create model\n",
        " model = Sequential()\n",
        " model.add(Conv2D(32, (5, 5), input_shape=(28, 28, 1), activation='relu'))\n",
        " model.add(MaxPooling2D())\n",
        " model.add(Dropout(0.2))\n",
        " model.add(Flatten())\n",
        " model.add(Dense(128, activation='relu'))\n",
        " model.add(Dense(num_classes, activation='softmax'))\n",
        " # Compile model\n",
        " model.compile(loss='categorical_crossentropy', optimizer='adam', metrics=['accuracy'])\n",
        " return model\n",
        "# build the model\n",
        "model = baseline_model()\n",
        "# Fit the model\n",
        "model.fit(X_train, y_train, validation_data=(X_test, y_test), epochs=10, batch_size=200)\n",
        "# Final evaluation of the model\n",
        "scores = model.evaluate(X_test, y_test, verbose=0)\n",
        "print(\"CNN Error: %.2f%%\" % (100-scores[1]*100))"
      ],
      "metadata": {
        "colab": {
          "base_uri": "https://localhost:8080/"
        },
        "id": "tF4EQKJ_9vOp",
        "outputId": "2be27bd0-f8df-4478-d638-84d0bf9cc403"
      },
      "execution_count": 18,
      "outputs": [
        {
          "output_type": "stream",
          "name": "stdout",
          "text": [
            "Epoch 1/10\n",
            "300/300 [==============================] - 35s 114ms/step - loss: 0.2611 - accuracy: 0.9250 - val_loss: 0.0914 - val_accuracy: 0.9734\n",
            "Epoch 2/10\n",
            "300/300 [==============================] - 33s 108ms/step - loss: 0.0810 - accuracy: 0.9760 - val_loss: 0.0560 - val_accuracy: 0.9822\n",
            "Epoch 3/10\n",
            "300/300 [==============================] - 35s 116ms/step - loss: 0.0559 - accuracy: 0.9832 - val_loss: 0.0444 - val_accuracy: 0.9849\n",
            "Epoch 4/10\n",
            "300/300 [==============================] - 32s 105ms/step - loss: 0.0445 - accuracy: 0.9860 - val_loss: 0.0410 - val_accuracy: 0.9859\n",
            "Epoch 5/10\n",
            "300/300 [==============================] - 32s 105ms/step - loss: 0.0347 - accuracy: 0.9891 - val_loss: 0.0355 - val_accuracy: 0.9891\n",
            "Epoch 6/10\n",
            "300/300 [==============================] - 32s 105ms/step - loss: 0.0288 - accuracy: 0.9909 - val_loss: 0.0352 - val_accuracy: 0.9887\n",
            "Epoch 7/10\n",
            "300/300 [==============================] - 33s 109ms/step - loss: 0.0246 - accuracy: 0.9925 - val_loss: 0.0354 - val_accuracy: 0.9872\n",
            "Epoch 8/10\n",
            "300/300 [==============================] - 31s 105ms/step - loss: 0.0221 - accuracy: 0.9927 - val_loss: 0.0334 - val_accuracy: 0.9897\n",
            "Epoch 9/10\n",
            "300/300 [==============================] - 32s 105ms/step - loss: 0.0172 - accuracy: 0.9944 - val_loss: 0.0347 - val_accuracy: 0.9891\n",
            "Epoch 10/10\n",
            "300/300 [==============================] - 31s 104ms/step - loss: 0.0143 - accuracy: 0.9955 - val_loss: 0.0302 - val_accuracy: 0.9910\n",
            "CNN Error: 0.90%\n"
          ]
        }
      ]
    },
    {
      "cell_type": "code",
      "source": [
        "# Larger CNN for the MNIST Dataset\n",
        "from tensorflow.keras.datasets import mnist\n",
        "from tensorflow.keras.models import Sequential\n",
        "from tensorflow.keras.layers import Dense\n",
        "from tensorflow.keras.layers import Dropout\n",
        "from tensorflow.keras.layers import Flatten\n",
        "from tensorflow.keras.layers import Conv2D\n",
        "from tensorflow.keras.layers import MaxPooling2D\n",
        "from tensorflow.keras.utils import to_categorical\n",
        "# load data\n",
        "(X_train, y_train), (X_test, y_test) = mnist.load_data()\n",
        "# reshape to be [samples][width][height][channels]\n",
        "X_train = X_train.reshape((X_train.shape[0], 28, 28, 1)).astype('float32')\n",
        "X_test = X_test.reshape((X_test.shape[0], 28, 28, 1)).astype('float32')\n",
        "# normalize inputs from 0-255 to 0-1\n",
        "X_train = X_train / 255\n",
        "X_test = X_test / 255\n",
        "# one hot encode outputs\n",
        "y_train = to_categorical(y_train)\n",
        "y_test = to_categorical(y_test)\n",
        "num_classes = y_test.shape[1]"
      ],
      "metadata": {
        "id": "ULuFWkjz_2qp"
      },
      "execution_count": 19,
      "outputs": []
    },
    {
      "cell_type": "code",
      "source": [
        "# define the larger model\n",
        "def larger_model():\n",
        " # create model\n",
        " model = Sequential()\n",
        " model.add(Conv2D(30, (5, 5), input_shape=(28, 28, 1), activation='relu'))\n",
        " model.add(MaxPooling2D(pool_size=(2, 2)))\n",
        " model.add(Conv2D(15, (3, 3), activation='relu'))\n",
        " model.add(MaxPooling2D(pool_size=(2, 2)))\n",
        " model.add(Dropout(0.2))\n",
        " model.add(Flatten())\n",
        " model.add(Dense(128, activation='relu'))\n",
        " model.add(Dense(50, activation='relu'))\n",
        " model.add(Dense(num_classes, activation='softmax'))\n",
        " # Compile model\n",
        " model.compile(loss='categorical_crossentropy', optimizer='adam', metrics=['accuracy'])\n",
        " return model"
      ],
      "metadata": {
        "id": "D8gMGN_f__Xj"
      },
      "execution_count": 20,
      "outputs": []
    },
    {
      "cell_type": "code",
      "source": [
        "# build the model\n",
        "model = larger_model()\n",
        "# Fit the model\n",
        "model.fit(X_train, y_train, validation_data=(X_test, y_test), epochs=10, batch_size=200)\n",
        "# Final evaluation of the model\n",
        "scores = model.evaluate(X_test, y_test, verbose=0)\n",
        "print(\"Large CNN Error: %.2f%%\" % (100-scores[1]*100))"
      ],
      "metadata": {
        "colab": {
          "base_uri": "https://localhost:8080/"
        },
        "id": "yHKFx9YeAHQv",
        "outputId": "92280716-468a-43c4-cd6a-b36c59e6119e"
      },
      "execution_count": 21,
      "outputs": [
        {
          "output_type": "stream",
          "name": "stdout",
          "text": [
            "Epoch 1/10\n",
            "300/300 [==============================] - 38s 124ms/step - loss: 0.3675 - accuracy: 0.8851 - val_loss: 0.0716 - val_accuracy: 0.9787\n",
            "Epoch 2/10\n",
            "300/300 [==============================] - 38s 127ms/step - loss: 0.0888 - accuracy: 0.9720 - val_loss: 0.0471 - val_accuracy: 0.9842\n",
            "Epoch 3/10\n",
            "300/300 [==============================] - 37s 123ms/step - loss: 0.0658 - accuracy: 0.9796 - val_loss: 0.0413 - val_accuracy: 0.9871\n",
            "Epoch 4/10\n",
            "300/300 [==============================] - 37s 123ms/step - loss: 0.0538 - accuracy: 0.9833 - val_loss: 0.0375 - val_accuracy: 0.9873\n",
            "Epoch 5/10\n",
            "300/300 [==============================] - 37s 123ms/step - loss: 0.0489 - accuracy: 0.9848 - val_loss: 0.0343 - val_accuracy: 0.9902\n",
            "Epoch 6/10\n",
            "300/300 [==============================] - 38s 127ms/step - loss: 0.0420 - accuracy: 0.9866 - val_loss: 0.0312 - val_accuracy: 0.9894\n",
            "Epoch 7/10\n",
            "300/300 [==============================] - 37s 123ms/step - loss: 0.0380 - accuracy: 0.9878 - val_loss: 0.0269 - val_accuracy: 0.9904\n",
            "Epoch 8/10\n",
            "300/300 [==============================] - 37s 123ms/step - loss: 0.0357 - accuracy: 0.9888 - val_loss: 0.0287 - val_accuracy: 0.9906\n",
            "Epoch 9/10\n",
            "300/300 [==============================] - 38s 127ms/step - loss: 0.0320 - accuracy: 0.9898 - val_loss: 0.0308 - val_accuracy: 0.9896\n",
            "Epoch 10/10\n",
            "300/300 [==============================] - 37s 123ms/step - loss: 0.0289 - accuracy: 0.9908 - val_loss: 0.0244 - val_accuracy: 0.9918\n",
            "Large CNN Error: 0.82%\n"
          ]
        }
      ]
    },
    {
      "cell_type": "code",
      "source": [],
      "metadata": {
        "id": "CSvZjFzfAIAy"
      },
      "execution_count": null,
      "outputs": []
    }
  ]
}